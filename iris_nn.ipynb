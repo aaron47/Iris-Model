{
 "cells": [
  {
   "cell_type": "code",
   "execution_count": 1,
   "metadata": {},
   "outputs": [],
   "source": [
    "import torch\n",
    "import torch.nn as nn\n",
    "import torch.nn.functional as F"
   ]
  },
  {
   "cell_type": "code",
   "execution_count": 2,
   "metadata": {},
   "outputs": [],
   "source": [
    "class IrisModel(nn.Module):\n",
    "    # Input Layer (in_features) -> 4 features of the flower: sepal.length, sepal.width, petal.length, petal.width\n",
    "    # Hidden Layer 1 (h1) number of nerons --> Hidden Layer 2 (h2) number of neurons --> Hidden Layer 3 (number of neurons)\n",
    "    # Ouput Layer (out_features) -> 3 types of flowers (Setosa, Versicolor, Virginica)\n",
    "\n",
    "    def __init__(self, in_features=4, h1=8, h2=9, h3=11, out_features=3) -> None:\n",
    "        super(IrisModel, self).__init__()\n",
    "        self.fc1 = nn.Linear(in_features, h1)\n",
    "        self.fc2 = nn.Linear(h1, h2)\n",
    "        self.fc3 = nn.Linear(h2, h3)\n",
    "        self.out = nn.Linear(h3, out_features)\n",
    "      \n",
    "\n",
    "    def forward(self, x):\n",
    "      x = F.relu(self.fc1(x))\n",
    "      x = F.relu(self.fc2(x))\n",
    "      x = F.relu(self.fc3(x))\n",
    "      x = self.out(x)\n",
    "\n",
    "      return x"
   ]
  },
  {
   "cell_type": "code",
   "execution_count": 3,
   "metadata": {},
   "outputs": [],
   "source": [
    "# Pick a manual seed for randomization\n",
    "torch.manual_seed(69)\n",
    "\n",
    "# Instantiate Model\n",
    "irisModel: IrisModel = IrisModel()"
   ]
  },
  {
   "cell_type": "code",
   "execution_count": 4,
   "metadata": {},
   "outputs": [],
   "source": [
    "import pandas as pd\n",
    "import matplotlib.pyplot as plt\n",
    "%matplotlib inline"
   ]
  },
  {
   "cell_type": "code",
   "execution_count": 5,
   "metadata": {},
   "outputs": [
    {
     "data": {
      "text/html": [
       "<div>\n",
       "<style scoped>\n",
       "    .dataframe tbody tr th:only-of-type {\n",
       "        vertical-align: middle;\n",
       "    }\n",
       "\n",
       "    .dataframe tbody tr th {\n",
       "        vertical-align: top;\n",
       "    }\n",
       "\n",
       "    .dataframe thead th {\n",
       "        text-align: right;\n",
       "    }\n",
       "</style>\n",
       "<table border=\"1\" class=\"dataframe\">\n",
       "  <thead>\n",
       "    <tr style=\"text-align: right;\">\n",
       "      <th></th>\n",
       "      <th>sepal.length</th>\n",
       "      <th>sepal.width</th>\n",
       "      <th>petal.length</th>\n",
       "      <th>petal.width</th>\n",
       "      <th>variety</th>\n",
       "    </tr>\n",
       "  </thead>\n",
       "  <tbody>\n",
       "    <tr>\n",
       "      <th>0</th>\n",
       "      <td>5.1</td>\n",
       "      <td>3.5</td>\n",
       "      <td>1.4</td>\n",
       "      <td>0.2</td>\n",
       "      <td>Setosa</td>\n",
       "    </tr>\n",
       "    <tr>\n",
       "      <th>1</th>\n",
       "      <td>4.9</td>\n",
       "      <td>3.0</td>\n",
       "      <td>1.4</td>\n",
       "      <td>0.2</td>\n",
       "      <td>Setosa</td>\n",
       "    </tr>\n",
       "    <tr>\n",
       "      <th>2</th>\n",
       "      <td>4.7</td>\n",
       "      <td>3.2</td>\n",
       "      <td>1.3</td>\n",
       "      <td>0.2</td>\n",
       "      <td>Setosa</td>\n",
       "    </tr>\n",
       "    <tr>\n",
       "      <th>3</th>\n",
       "      <td>4.6</td>\n",
       "      <td>3.1</td>\n",
       "      <td>1.5</td>\n",
       "      <td>0.2</td>\n",
       "      <td>Setosa</td>\n",
       "    </tr>\n",
       "    <tr>\n",
       "      <th>4</th>\n",
       "      <td>5.0</td>\n",
       "      <td>3.6</td>\n",
       "      <td>1.4</td>\n",
       "      <td>0.2</td>\n",
       "      <td>Setosa</td>\n",
       "    </tr>\n",
       "  </tbody>\n",
       "</table>\n",
       "</div>"
      ],
      "text/plain": [
       "   sepal.length  sepal.width  petal.length  petal.width variety\n",
       "0           5.1          3.5           1.4          0.2  Setosa\n",
       "1           4.9          3.0           1.4          0.2  Setosa\n",
       "2           4.7          3.2           1.3          0.2  Setosa\n",
       "3           4.6          3.1           1.5          0.2  Setosa\n",
       "4           5.0          3.6           1.4          0.2  Setosa"
      ]
     },
     "execution_count": 5,
     "metadata": {},
     "output_type": "execute_result"
    }
   ],
   "source": [
    "df = pd.read_csv(\"iris.csv\")\n",
    "df.head()"
   ]
  },
  {
   "cell_type": "code",
   "execution_count": 6,
   "metadata": {},
   "outputs": [
    {
     "data": {
      "text/html": [
       "<div>\n",
       "<style scoped>\n",
       "    .dataframe tbody tr th:only-of-type {\n",
       "        vertical-align: middle;\n",
       "    }\n",
       "\n",
       "    .dataframe tbody tr th {\n",
       "        vertical-align: top;\n",
       "    }\n",
       "\n",
       "    .dataframe thead th {\n",
       "        text-align: right;\n",
       "    }\n",
       "</style>\n",
       "<table border=\"1\" class=\"dataframe\">\n",
       "  <thead>\n",
       "    <tr style=\"text-align: right;\">\n",
       "      <th></th>\n",
       "      <th>sepal.length</th>\n",
       "      <th>sepal.width</th>\n",
       "      <th>petal.length</th>\n",
       "      <th>petal.width</th>\n",
       "      <th>variety</th>\n",
       "    </tr>\n",
       "  </thead>\n",
       "  <tbody>\n",
       "    <tr>\n",
       "      <th>0</th>\n",
       "      <td>5.1</td>\n",
       "      <td>3.5</td>\n",
       "      <td>1.4</td>\n",
       "      <td>0.2</td>\n",
       "      <td>0</td>\n",
       "    </tr>\n",
       "    <tr>\n",
       "      <th>1</th>\n",
       "      <td>4.9</td>\n",
       "      <td>3.0</td>\n",
       "      <td>1.4</td>\n",
       "      <td>0.2</td>\n",
       "      <td>0</td>\n",
       "    </tr>\n",
       "    <tr>\n",
       "      <th>2</th>\n",
       "      <td>4.7</td>\n",
       "      <td>3.2</td>\n",
       "      <td>1.3</td>\n",
       "      <td>0.2</td>\n",
       "      <td>0</td>\n",
       "    </tr>\n",
       "    <tr>\n",
       "      <th>3</th>\n",
       "      <td>4.6</td>\n",
       "      <td>3.1</td>\n",
       "      <td>1.5</td>\n",
       "      <td>0.2</td>\n",
       "      <td>0</td>\n",
       "    </tr>\n",
       "    <tr>\n",
       "      <th>4</th>\n",
       "      <td>5.0</td>\n",
       "      <td>3.6</td>\n",
       "      <td>1.4</td>\n",
       "      <td>0.2</td>\n",
       "      <td>0</td>\n",
       "    </tr>\n",
       "    <tr>\n",
       "      <th>...</th>\n",
       "      <td>...</td>\n",
       "      <td>...</td>\n",
       "      <td>...</td>\n",
       "      <td>...</td>\n",
       "      <td>...</td>\n",
       "    </tr>\n",
       "    <tr>\n",
       "      <th>145</th>\n",
       "      <td>6.7</td>\n",
       "      <td>3.0</td>\n",
       "      <td>5.2</td>\n",
       "      <td>2.3</td>\n",
       "      <td>2</td>\n",
       "    </tr>\n",
       "    <tr>\n",
       "      <th>146</th>\n",
       "      <td>6.3</td>\n",
       "      <td>2.5</td>\n",
       "      <td>5.0</td>\n",
       "      <td>1.9</td>\n",
       "      <td>2</td>\n",
       "    </tr>\n",
       "    <tr>\n",
       "      <th>147</th>\n",
       "      <td>6.5</td>\n",
       "      <td>3.0</td>\n",
       "      <td>5.2</td>\n",
       "      <td>2.0</td>\n",
       "      <td>2</td>\n",
       "    </tr>\n",
       "    <tr>\n",
       "      <th>148</th>\n",
       "      <td>6.2</td>\n",
       "      <td>3.4</td>\n",
       "      <td>5.4</td>\n",
       "      <td>2.3</td>\n",
       "      <td>2</td>\n",
       "    </tr>\n",
       "    <tr>\n",
       "      <th>149</th>\n",
       "      <td>5.9</td>\n",
       "      <td>3.0</td>\n",
       "      <td>5.1</td>\n",
       "      <td>1.8</td>\n",
       "      <td>2</td>\n",
       "    </tr>\n",
       "  </tbody>\n",
       "</table>\n",
       "<p>150 rows × 5 columns</p>\n",
       "</div>"
      ],
      "text/plain": [
       "     sepal.length  sepal.width  petal.length  petal.width  variety\n",
       "0             5.1          3.5           1.4          0.2        0\n",
       "1             4.9          3.0           1.4          0.2        0\n",
       "2             4.7          3.2           1.3          0.2        0\n",
       "3             4.6          3.1           1.5          0.2        0\n",
       "4             5.0          3.6           1.4          0.2        0\n",
       "..            ...          ...           ...          ...      ...\n",
       "145           6.7          3.0           5.2          2.3        2\n",
       "146           6.3          2.5           5.0          1.9        2\n",
       "147           6.5          3.0           5.2          2.0        2\n",
       "148           6.2          3.4           5.4          2.3        2\n",
       "149           5.9          3.0           5.1          1.8        2\n",
       "\n",
       "[150 rows x 5 columns]"
      ]
     },
     "execution_count": 6,
     "metadata": {},
     "output_type": "execute_result"
    }
   ],
   "source": [
    "# Change the last column from strings to integers\n",
    "df[\"variety\"] = df[\"variety\"].replace(\"Setosa\", 0)\n",
    "df[\"variety\"] = df[\"variety\"].replace(\"Versicolor\", 1)\n",
    "df[\"variety\"] = df[\"variety\"].replace(\"Virginica\", 2)\n",
    "\n",
    "df"
   ]
  },
  {
   "cell_type": "code",
   "execution_count": 7,
   "metadata": {},
   "outputs": [],
   "source": [
    "# Train, Test, Split, set X and y\n",
    "X = df.drop(\"variety\", axis=1)\n",
    "y = df[\"variety\"]"
   ]
  },
  {
   "cell_type": "code",
   "execution_count": 8,
   "metadata": {},
   "outputs": [],
   "source": [
    "# Convert X and y to numpy arrays\n",
    "X = X.values\n",
    "y = y.values"
   ]
  },
  {
   "cell_type": "code",
   "execution_count": 9,
   "metadata": {},
   "outputs": [],
   "source": [
    "from sklearn.model_selection import train_test_split"
   ]
  },
  {
   "cell_type": "code",
   "execution_count": 20,
   "metadata": {},
   "outputs": [],
   "source": [
    "X_train, X_test, y_train, y_test = train_test_split(X, y, test_size=0.2, random_state=69)"
   ]
  },
  {
   "cell_type": "code",
   "execution_count": 21,
   "metadata": {},
   "outputs": [],
   "source": [
    "# Convert X features to torch float tensors\n",
    "X_train = torch.FloatTensor(X_train)\n",
    "X_test = torch.FloatTensor(X_test)"
   ]
  },
  {
   "cell_type": "code",
   "execution_count": 22,
   "metadata": {},
   "outputs": [],
   "source": [
    "# Convert y features to torch long tensors\n",
    "y_train = torch.LongTensor(y_train)\n",
    "y_test = torch.LongTensor(y_test)"
   ]
  },
  {
   "cell_type": "code",
   "execution_count": 23,
   "metadata": {},
   "outputs": [],
   "source": [
    "# Set the criterion of model to measure the error, how far off the predictions are from the data\n",
    "criterion = nn.CrossEntropyLoss()\n",
    "# Choose Adam Optimizer, lr = learning rate (if error doesn't go down after a bunch of iterations (epochs), lower our learning rate\n",
    "optimizer = torch.optim.Adam(irisModel.parameters(), lr=0.01)"
   ]
  },
  {
   "cell_type": "code",
   "execution_count": 25,
   "metadata": {},
   "outputs": [
    {
     "name": "stdout",
     "output_type": "stream",
     "text": [
      "epoch: 0, loss: 1.0768150091171265\n",
      "epoch: 10, loss: 0.8193885684013367\n",
      "epoch: 20, loss: 0.43449047207832336\n",
      "epoch: 30, loss: 0.2577800154685974\n",
      "epoch: 40, loss: 0.13850714266300201\n",
      "epoch: 50, loss: 0.10053948312997818\n",
      "epoch: 60, loss: 0.08550868928432465\n",
      "epoch: 70, loss: 0.07509179413318634\n",
      "epoch: 80, loss: 0.06818916648626328\n",
      "epoch: 90, loss: 0.06337330490350723\n"
     ]
    }
   ],
   "source": [
    "# Training the model\n",
    "# epoch = 1 iteration through all the training data\n",
    "epochs = 100\n",
    "losses = []\n",
    "\n",
    "for i in range(epochs):\n",
    "\t\t\t# Go forward and get a predicion\n",
    "\t\t\ty_pred = irisModel.forward(X_train)\n",
    "\n",
    "\t\t\t# Measure the loss/error, gonna be high at first\n",
    "\t\t\tloss = criterion(y_pred, y_train)\n",
    "\n",
    "\t\t\t# Keep track of the losses\n",
    "\t\t\tlosses.append(loss.detach().numpy())\n",
    "\n",
    "\t\t\t# Print loss every 10 epochs\n",
    "\t\t\tif i % 10 == 0:\n",
    "\t\t\t\tprint(f'epoch: {i}, loss: {loss}')\n",
    "\n",
    "\t\t\t# Do some back propagation: take the error rate of forward propagation and feed it back\n",
    "\t\t\t# thru the network to fine tune the weights\n",
    "\t\t\toptimizer.zero_grad()\n",
    "\t\t\tloss.backward()\n",
    "\t\t\toptimizer.step()"
   ]
  },
  {
   "cell_type": "code",
   "execution_count": 26,
   "metadata": {},
   "outputs": [
    {
     "data": {
      "text/plain": [
       "Text(0.5, 0, 'Epoch')"
      ]
     },
     "execution_count": 26,
     "metadata": {},
     "output_type": "execute_result"
    },
    {
     "data": {
      "image/png": "[encoded data removed]",
      "text/plain": [
       "<Figure size 640x480 with 1 Axes>"
      ]
     },
     "metadata": {},
     "output_type": "display_data"
    }
   ],
   "source": [
    "plt.plot(range(epochs), losses)\n",
    "plt.ylabel(\"Loss/error\")\n",
    "plt.xlabel(\"Epoch\")"
   ]
  },
  {
   "cell_type": "code",
   "execution_count": 27,
   "metadata": {},
   "outputs": [],
   "source": [
    "# Evaluate the model on a test dataset\n",
    "with torch.no_grad(): # Turn off back propagation\n",
    "    y_eval = irisModel.forward(X_test) # X_test = features(4), y_eval = predictions\n",
    "    loss = criterion(y_eval, y_test) # Calculate Loss"
   ]
  },
  {
   "cell_type": "code",
   "execution_count": 28,
   "metadata": {},
   "outputs": [
    {
     "data": {
      "text/plain": [
       "tensor(0.0086)"
      ]
     },
     "execution_count": 28,
     "metadata": {},
     "output_type": "execute_result"
    }
   ],
   "source": [
    "loss"
   ]
  },
  {
   "cell_type": "code",
   "execution_count": 34,
   "metadata": {},
   "outputs": [
    {
     "name": "stdout",
     "output_type": "stream",
     "text": [
      "1.)  tensor([ 10.7865,   1.8161, -19.4444]) \t 0 \t 0\n",
      "2.)  tensor([-5.2196,  7.9779, -0.3971]) \t 1 \t 1\n",
      "3.)  tensor([ 10.6736,   2.1066, -19.4487]) \t 0 \t 0\n",
      "4.)  tensor([-14.6117,   5.3332,  15.2400]) \t 2 \t 2\n",
      "5.)  tensor([ 10.6956,   1.9578, -19.4129]) \t 0 \t 0\n",
      "6.)  tensor([ 12.0458,   1.8686, -21.6416]) \t 0 \t 0\n",
      "7.)  tensor([-5.4506,  6.9490,  0.8519]) \t 1 \t 1\n",
      "8.)  tensor([-14.8708,   6.8807,  14.2018]) \t 2 \t 2\n",
      "9.)  tensor([-11.9332,   7.7028,   9.3218]) \t 2 \t 2\n",
      "10.)  tensor([ 11.5429,   1.8981, -20.7890]) \t 0 \t 0\n",
      "11.)  tensor([-11.1167,   6.2762,   9.4831]) \t 2 \t 2\n",
      "12.)  tensor([-17.6374,   7.0664,  17.9319]) \t 2 \t 2\n",
      "13.)  tensor([  9.2936,   1.7537, -16.8400]) \t 0 \t 0\n",
      "14.)  tensor([-6.0765,  7.4054,  1.2922]) \t 1 \t 1\n",
      "15.)  tensor([-12.8185,   6.5560,  11.6004]) \t 2 \t 2\n",
      "16.)  tensor([-6.5495,  7.4483,  1.9503]) \t 1 \t 1\n",
      "17.)  tensor([-2.2391,  6.7851, -3.3434]) \t 1 \t 1\n",
      "18.)  tensor([-15.8195,   6.1068,  16.2397]) \t 2 \t 2\n",
      "19.)  tensor([-4.1065,  7.2268, -1.2323]) \t 1 \t 1\n",
      "20.)  tensor([-13.2114,   5.5088,  13.1177]) \t 2 \t 2\n",
      "21.)  tensor([-17.4115,   5.8161,  18.7410]) \t 2 \t 2\n",
      "22.)  tensor([-3.1499,  7.2510, -2.5298]) \t 1 \t 1\n",
      "23.)  tensor([ 10.0331,   1.8722, -18.1891]) \t 0 \t 0\n",
      "24.)  tensor([ 11.2963,   1.9213, -20.3908]) \t 0 \t 0\n",
      "25.)  tensor([-13.4703,   7.4748,  11.6931]) \t 2 \t 2\n",
      "26.)  tensor([ 11.5517,   1.7699, -20.7158]) \t 0 \t 0\n",
      "27.)  tensor([-15.1723,   6.0301,  15.3885]) \t 2 \t 2\n",
      "28.)  tensor([-15.8478,   6.4228,  15.9881]) \t 2 \t 2\n",
      "29.)  tensor([-5.0401,  6.5206,  0.6624]) \t 1 \t 1\n",
      "30.)  tensor([ 10.6737,   1.8425, -19.2823]) \t 0 \t 0\n",
      "We got 30 correct!\n"
     ]
    }
   ],
   "source": [
    "correct = 0\n",
    "\n",
    "with torch.no_grad():\n",
    "\t\t\tfor i, data in enumerate(X_test):\n",
    "\t\t\t\ty_val = irisModel.forward(data)\n",
    "\n",
    "\t\t\t\tif y_test[i] == 0:\n",
    "\t\t\t\t\tx = \"Setosa\"\n",
    "\t\t\t\telif y_test[i] == 1:\n",
    "\t\t\t\t\tx = \"Versicolor\"\n",
    "\t\t\t\telse:\n",
    "\t\t\t\t\tx = \"Virginica\"\n",
    "\n",
    "\t\t\t\t# Will tell us what type of flower class our network thinks it is\n",
    "\t\t\t\tprint(f'{i+1}.)  {str(y_val)} \\t {y_test[i]} \\t {y_val.argmax().item()}')\n",
    "\n",
    "\t\t\t\t# Correct or not\n",
    "\t\t\t\tif y_val.argmax().item() == y_test[i]:\n",
    "\t\t\t\t\tcorrect +=1\n",
    "\t\t\t\t\n",
    "print(f\"We got {correct} correct!\")"
   ]
  },
  {
   "cell_type": "code",
   "execution_count": 48,
   "metadata": {},
   "outputs": [
    {
     "name": "stdout",
     "output_type": "stream",
     "text": [
      "Setosa\n",
      "Versicolor\n",
      "Virginica\n"
     ]
    }
   ],
   "source": [
    "# Testing my Model against random tensors that are close to each iris type\n",
    "setosa_iris = torch.tensor([5.5, 3.1, 1.1, 0.4])\n",
    "versicolor_iris = torch.tensor([6.5, 3.1, 5, 1.2])\n",
    "virginica_iris = torch.tensor([7, 2.9, 6, 1.5])\n",
    "\n",
    "iris_tensor_list = [setosa_iris, versicolor_iris, virginica_iris]\n",
    "\n",
    "with torch.no_grad():\n",
    "\tfor iris_tensor in iris_tensor_list:\n",
    "\t\tprediction = irisModel.forward(iris_tensor).argmax().item()\n",
    "\t\tif prediction == 0:\n",
    "\t\t\tprint(\"Setosa\")\n",
    "\t\telif prediction == 1:\n",
    "\t\t\tprint(\"Versicolor\")\n",
    "\t\telse:\n",
    "\t\t\tprint(\"Virginica\")"
   ]
  },
  {
   "cell_type": "code",
   "execution_count": 41,
   "metadata": {},
   "outputs": [],
   "source": [
    "# Save NN Model\n",
    "torch.save(irisModel.state_dict(), \"my_iris_model.pt\")"
   ]
  },
  {
   "cell_type": "code",
   "execution_count": 43,
   "metadata": {},
   "outputs": [
    {
     "data": {
      "text/plain": [
       "<All keys matched successfully>"
      ]
     },
     "execution_count": 43,
     "metadata": {},
     "output_type": "execute_result"
    }
   ],
   "source": [
    "# Load the Model\n",
    "new_iris_model = IrisModel()\n",
    "new_iris_model.load_state_dict(torch.load(\"my_iris_model.pt\"))"
   ]
  },
  {
   "cell_type": "code",
   "execution_count": 44,
   "metadata": {},
   "outputs": [
    {
     "data": {
      "text/plain": [
       "IrisModel(\n",
       "  (fc1): Linear(in_features=4, out_features=8, bias=True)\n",
       "  (fc2): Linear(in_features=8, out_features=9, bias=True)\n",
       "  (fc3): Linear(in_features=9, out_features=11, bias=True)\n",
       "  (out): Linear(in_features=11, out_features=3, bias=True)\n",
       ")"
      ]
     },
     "execution_count": 44,
     "metadata": {},
     "output_type": "execute_result"
    }
   ],
   "source": [
    "# Check if it loaded correctly\n",
    "new_iris_model.eval()"
   ]
  }
 ],
 "metadata": {
  "kernelspec": {
   "display_name": ".venv",
   "language": "python",
   "name": "python3"
  },
  "language_info": {
   "codemirror_mode": {
    "name": "ipython",
    "version": 3
   },
   "file_extension": ".py",
   "mimetype": "text/x-python",
   "name": "python",
   "nbconvert_exporter": "python",
   "pygments_lexer": "ipython3",
   "version": "3.11.4"
  }
 },
 "nbformat": 4,
 "nbformat_minor": 2
}
